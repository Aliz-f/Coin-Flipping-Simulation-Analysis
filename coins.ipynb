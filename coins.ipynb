{
 "cells": [
  {
   "cell_type": "markdown",
   "source": [
    "# Question:\n",
    "Run a computer simulation for flipping 1,000 fair coins. Flip each coin independently 10 times. Let’s focus on 3 coins as follows: c1 is the first coin flipped; crand is a coin you choose at random; cmin is the coin that had the minimum frequency of heads (pick the earlier one in case of a tie). Let ν1, νrand and νmin be the fraction of heads you obtain for the respective three coins. For a coin, let μ be its probability of heads."
   ],
   "metadata": {
    "collapsed": false
   },
   "id": "37750d076dd3f260"
  },
  {
   "cell_type": "markdown",
   "source": [
    "# Importing Libraries"
   ],
   "metadata": {
    "collapsed": false
   },
   "id": "c2964835b6bc884d"
  },
  {
   "cell_type": "code",
   "execution_count": 1,
   "outputs": [],
   "source": [
    "import numpy as np\n",
    "import matplotlib.pyplot as plt"
   ],
   "metadata": {
    "collapsed": false,
    "ExecuteTime": {
     "end_time": "2024-09-16T20:06:18.009027818Z",
     "start_time": "2024-09-16T20:06:17.612849455Z"
    }
   },
   "id": "1daa609114b02cd2"
  },
  {
   "cell_type": "markdown",
   "source": [
    "# A) What is μ For The Three Coins Selected?"
   ],
   "metadata": {
    "collapsed": false
   },
   "id": "bf7112eace31e402"
  },
  {
   "cell_type": "markdown",
   "source": [
    "The question presents a scenario where we simulate flipping 1,000 fair coins, each flipped 10 times independently. We're then asked to focus on three specific coins:\n",
    "\n",
    "1. **c1**: The first coin in the sequence.\n",
    "2. **crand**: A randomly chosen coin from the 1,000.\n",
    "3. **cmin**: The coin that resulted in the **minimum** number of heads after the 10 flips (if there's a tie, we pick the earliest one).\n",
    "\n",
    "For each of these coins, we calculate $nu$ (nu), which is the **fraction of heads** obtained in their 10 flips:\n",
    "- $nu_1$ for c1,\n",
    "- $nu_{\\text{rand}}$ for crand,\n",
    "- $nu_{\\text{min}}$ for cmin."
   ],
   "metadata": {
    "collapsed": false
   },
   "id": "e2cfe18f8e52441f"
  },
  {
   "cell_type": "markdown",
   "source": [
    "## Number of Coins and Flips"
   ],
   "metadata": {
    "collapsed": false
   },
   "id": "20706531fd5736fd"
  },
  {
   "cell_type": "code",
   "execution_count": 2,
   "id": "initial_id",
   "metadata": {
    "collapsed": true,
    "ExecuteTime": {
     "end_time": "2024-09-16T20:06:18.012045896Z",
     "start_time": "2024-09-16T20:06:18.008776841Z"
    }
   },
   "outputs": [],
   "source": [
    "num_coins = 1000\n",
    "num_flips = 10"
   ]
  },
  {
   "cell_type": "markdown",
   "source": [
    "## Simulate the Coin Flips: 1 represents heads, 0 represents tails\n",
    "### Create a (num_coins x num_flips) array where each element is 0 or 1"
   ],
   "metadata": {
    "collapsed": false
   },
   "id": "28a4540a5a7497d7"
  },
  {
   "cell_type": "code",
   "execution_count": 3,
   "outputs": [
    {
     "name": "stdout",
     "output_type": "stream",
     "text": [
      "[[1 1 0 ... 1 0 0]\n",
      " [1 1 0 ... 0 1 0]\n",
      " [0 0 0 ... 0 1 0]\n",
      " ...\n",
      " [1 1 1 ... 1 1 0]\n",
      " [0 0 0 ... 0 1 0]\n",
      " [1 0 0 ... 0 1 1]]\n"
     ]
    }
   ],
   "source": [
    "flips = np.random.randint(0, 2, size=(num_coins, num_flips))\n",
    "print(flips)"
   ],
   "metadata": {
    "collapsed": false,
    "ExecuteTime": {
     "end_time": "2024-09-16T20:06:18.024945566Z",
     "start_time": "2024-09-16T20:06:18.011874396Z"
    }
   },
   "id": "8727fd09517566e2"
  },
  {
   "cell_type": "markdown",
   "source": [
    "## Calculate the Number of Heads for Each Coin"
   ],
   "metadata": {
    "collapsed": false
   },
   "id": "aac47e09a72150bf"
  },
  {
   "cell_type": "code",
   "execution_count": 4,
   "outputs": [
    {
     "name": "stdout",
     "output_type": "stream",
     "text": [
      "[5 5 2 7 7 3 3 3 6 6 6 6 3 6 2 5 7 7 4 3 5 4 4 5 7 6 4 5 5 9 5 4 6 3 5 2 6\n",
      " 3 7 8 5 6 3 3 5 7 5 3 3 8 7 5 3 6 3 5 3 3 3 4 2 4 6 5 2 4 4 7 7 5 5 5 2 4\n",
      " 7 7 4 7 7 2 7 4 5 6 8 6 2 5 3 4 3 4 4 3 5 3 6 4 2 5 4 6 3 3 5 4 2 5 9 7 6\n",
      " 5 8 3 4 3 6 6 7 7 4 4 6 7 5 6 5 5 4 7 3 5 7 4 6 6 5 5 7 4 4 4 4 5 6 4 3 4\n",
      " 3 5 6 8 7 4 3 5 4 7 5 4 4 7 6 3 6 3 4 4 5 4 7 5 7 3 5 7 3 5 6 6 7 6 7 5 7\n",
      " 4 5 4 5 2 6 5 4 5 1 1 4 8 3 8 4 2 7 1 6 7 8 5 5 6 8 5 6 6 4 7 6 6 8 5 6 6\n",
      " 5 7 5 6 7 5 2 3 6 5 4 6 6 3 7 7 2 3 2 5 5 3 5 7 2 4 4 4 5 4 4 8 6 5 5 8 6\n",
      " 7 6 6 3 6 5 4 6 5 5 6 6 4 5 2 3 6 7 3 6 3 4 5 5 3 7 6 4 3 3 5 7 6 7 3 5 7\n",
      " 5 7 7 5 3 5 5 5 5 5 6 5 3 5 4 2 5 5 5 2 5 4 5 4 4 5 5 4 4 4 7 7 6 2 6 5 6\n",
      " 4 3 5 2 8 6 4 6 6 7 3 7 6 5 7 4 4 7 4 6 7 6 4 5 1 4 8 3 4 5 6 7 5 7 4 7 3\n",
      " 8 6 3 3 5 7 5 4 6 4 5 6 5 6 6 7 8 1 5 6 6 5 4 4 7 3 6 4 4 7 5 2 6 5 6 2 2\n",
      " 4 4 4 5 4 6 6 4 3 6 4 7 4 5 7 5 6 4 6 3 6 4 4 3 7 3 6 3 4 8 4 5 5 5 4 3 5\n",
      " 6 4 7 4 8 5 6 3 8 3 6 7 5 6 5 5 5 2 2 3 5 3 5 3 5 4 6 5 7 5 9 3 3 4 4 2 3\n",
      " 5 4 6 5 7 4 5 5 4 6 6 5 5 5 5 3 6 6 5 4 3 5 3 3 5 6 3 3 5 5 6 5 7 9 5 7 5\n",
      " 7 5 6 6 4 7 5 4 3 5 5 6 3 5 6 4 6 7 8 5 6 3 5 8 5 6 6 5 8 5 7 3 4 6 5 6 4\n",
      " 4 4 6 6 7 6 7 5 5 6 6 2 6 6 7 6 4 6 4 2 3 7 4 6 6 5 8 6 5 6 5 6 3 4 7 5 6\n",
      " 4 3 3 7 3 3 4 5 6 6 6 7 5 6 4 5 3 3 6 4 4 5 2 4 4 3 5 5 6 5 4 3 3 2 7 6 4\n",
      " 2 6 5 6 4 3 6 5 4 4 5 4 5 6 7 3 7 6 6 4 5 5 4 6 5 5 5 6 5 5 4 2 4 6 9 2 5\n",
      " 3 5 3 6 5 6 5 5 4 4 4 4 6 6 4 4 4 5 6 5 8 6 6 4 4 4 4 4 5 4 6 7 4 6 6 7 6\n",
      " 5 6 5 6 7 6 8 6 5 2 4 6 7 6 5 5 6 4 7 8 8 5 3 6 4 4 4 7 6 6 5 6 6 3 5 4 4\n",
      " 6 6 4 4 7 5 5 4 2 3 5 4 4 6 7 3 8 7 4 6 5 6 8 8 7 6 4 5 5 2 6 2 4 3 7 6 5\n",
      " 5 6 4 4 5 4 6 7 2 6 5 6 5 5 5 7 8 7 4 6 4 5 5 6 5 7 8 4 5 7 3 5 5 5 3 4 6\n",
      " 6 2 6 5 5 6 5 6 3 5 5 5 5 7 5 8 5 3 3 6 4 5 5 4 3 7 6 3 6 3 2 5 3 4 4 4 6\n",
      " 7 4 5 4 3 4 4 6 4 7 5 5 5 6 3 2 5 4 5 4 4 3 7 5 5 6 4 5 5 1 2 5 3 5 4 3 7\n",
      " 3 3 6 4 5 5 6 5 6 2 6 4 8 4 5 3 4 6 5 6 5 4 5 3 4 6 8 6 7 3 3 8 4 2 7 5 6\n",
      " 4 6 7 6 7 5 7 5 6 6 8 5 4 4 4 4 6 7 4 8 4 6 5 5 4 7 7 6 4 7 4 6 3 6 5 9 6\n",
      " 4 5 6 5 5 4 6 6 3 7 8 4 4 6 5 7 5 4 5 3 4 7 7 3 8 5 4 6 5 3 3 4 7 4 7 7 3\n",
      " 6]\n"
     ]
    }
   ],
   "source": [
    "heads_counts = flips.sum(axis=1)\n",
    "print(heads_counts)"
   ],
   "metadata": {
    "collapsed": false,
    "ExecuteTime": {
     "end_time": "2024-09-16T20:06:18.039420909Z",
     "start_time": "2024-09-16T20:06:18.023448970Z"
    }
   },
   "id": "9e400d96a140d551"
  },
  {
   "cell_type": "markdown",
   "source": [
    "## Calculate the Fraction of Heads for Each Coin"
   ],
   "metadata": {
    "collapsed": false
   },
   "id": "ede9eba83bbcfda1"
  },
  {
   "cell_type": "code",
   "execution_count": 5,
   "outputs": [
    {
     "name": "stdout",
     "output_type": "stream",
     "text": [
      "[0.5 0.5 0.2 0.7 0.7 0.3 0.3 0.3 0.6 0.6 0.6 0.6 0.3 0.6 0.2 0.5 0.7 0.7\n",
      " 0.4 0.3 0.5 0.4 0.4 0.5 0.7 0.6 0.4 0.5 0.5 0.9 0.5 0.4 0.6 0.3 0.5 0.2\n",
      " 0.6 0.3 0.7 0.8 0.5 0.6 0.3 0.3 0.5 0.7 0.5 0.3 0.3 0.8 0.7 0.5 0.3 0.6\n",
      " 0.3 0.5 0.3 0.3 0.3 0.4 0.2 0.4 0.6 0.5 0.2 0.4 0.4 0.7 0.7 0.5 0.5 0.5\n",
      " 0.2 0.4 0.7 0.7 0.4 0.7 0.7 0.2 0.7 0.4 0.5 0.6 0.8 0.6 0.2 0.5 0.3 0.4\n",
      " 0.3 0.4 0.4 0.3 0.5 0.3 0.6 0.4 0.2 0.5 0.4 0.6 0.3 0.3 0.5 0.4 0.2 0.5\n",
      " 0.9 0.7 0.6 0.5 0.8 0.3 0.4 0.3 0.6 0.6 0.7 0.7 0.4 0.4 0.6 0.7 0.5 0.6\n",
      " 0.5 0.5 0.4 0.7 0.3 0.5 0.7 0.4 0.6 0.6 0.5 0.5 0.7 0.4 0.4 0.4 0.4 0.5\n",
      " 0.6 0.4 0.3 0.4 0.3 0.5 0.6 0.8 0.7 0.4 0.3 0.5 0.4 0.7 0.5 0.4 0.4 0.7\n",
      " 0.6 0.3 0.6 0.3 0.4 0.4 0.5 0.4 0.7 0.5 0.7 0.3 0.5 0.7 0.3 0.5 0.6 0.6\n",
      " 0.7 0.6 0.7 0.5 0.7 0.4 0.5 0.4 0.5 0.2 0.6 0.5 0.4 0.5 0.1 0.1 0.4 0.8\n",
      " 0.3 0.8 0.4 0.2 0.7 0.1 0.6 0.7 0.8 0.5 0.5 0.6 0.8 0.5 0.6 0.6 0.4 0.7\n",
      " 0.6 0.6 0.8 0.5 0.6 0.6 0.5 0.7 0.5 0.6 0.7 0.5 0.2 0.3 0.6 0.5 0.4 0.6\n",
      " 0.6 0.3 0.7 0.7 0.2 0.3 0.2 0.5 0.5 0.3 0.5 0.7 0.2 0.4 0.4 0.4 0.5 0.4\n",
      " 0.4 0.8 0.6 0.5 0.5 0.8 0.6 0.7 0.6 0.6 0.3 0.6 0.5 0.4 0.6 0.5 0.5 0.6\n",
      " 0.6 0.4 0.5 0.2 0.3 0.6 0.7 0.3 0.6 0.3 0.4 0.5 0.5 0.3 0.7 0.6 0.4 0.3\n",
      " 0.3 0.5 0.7 0.6 0.7 0.3 0.5 0.7 0.5 0.7 0.7 0.5 0.3 0.5 0.5 0.5 0.5 0.5\n",
      " 0.6 0.5 0.3 0.5 0.4 0.2 0.5 0.5 0.5 0.2 0.5 0.4 0.5 0.4 0.4 0.5 0.5 0.4\n",
      " 0.4 0.4 0.7 0.7 0.6 0.2 0.6 0.5 0.6 0.4 0.3 0.5 0.2 0.8 0.6 0.4 0.6 0.6\n",
      " 0.7 0.3 0.7 0.6 0.5 0.7 0.4 0.4 0.7 0.4 0.6 0.7 0.6 0.4 0.5 0.1 0.4 0.8\n",
      " 0.3 0.4 0.5 0.6 0.7 0.5 0.7 0.4 0.7 0.3 0.8 0.6 0.3 0.3 0.5 0.7 0.5 0.4\n",
      " 0.6 0.4 0.5 0.6 0.5 0.6 0.6 0.7 0.8 0.1 0.5 0.6 0.6 0.5 0.4 0.4 0.7 0.3\n",
      " 0.6 0.4 0.4 0.7 0.5 0.2 0.6 0.5 0.6 0.2 0.2 0.4 0.4 0.4 0.5 0.4 0.6 0.6\n",
      " 0.4 0.3 0.6 0.4 0.7 0.4 0.5 0.7 0.5 0.6 0.4 0.6 0.3 0.6 0.4 0.4 0.3 0.7\n",
      " 0.3 0.6 0.3 0.4 0.8 0.4 0.5 0.5 0.5 0.4 0.3 0.5 0.6 0.4 0.7 0.4 0.8 0.5\n",
      " 0.6 0.3 0.8 0.3 0.6 0.7 0.5 0.6 0.5 0.5 0.5 0.2 0.2 0.3 0.5 0.3 0.5 0.3\n",
      " 0.5 0.4 0.6 0.5 0.7 0.5 0.9 0.3 0.3 0.4 0.4 0.2 0.3 0.5 0.4 0.6 0.5 0.7\n",
      " 0.4 0.5 0.5 0.4 0.6 0.6 0.5 0.5 0.5 0.5 0.3 0.6 0.6 0.5 0.4 0.3 0.5 0.3\n",
      " 0.3 0.5 0.6 0.3 0.3 0.5 0.5 0.6 0.5 0.7 0.9 0.5 0.7 0.5 0.7 0.5 0.6 0.6\n",
      " 0.4 0.7 0.5 0.4 0.3 0.5 0.5 0.6 0.3 0.5 0.6 0.4 0.6 0.7 0.8 0.5 0.6 0.3\n",
      " 0.5 0.8 0.5 0.6 0.6 0.5 0.8 0.5 0.7 0.3 0.4 0.6 0.5 0.6 0.4 0.4 0.4 0.6\n",
      " 0.6 0.7 0.6 0.7 0.5 0.5 0.6 0.6 0.2 0.6 0.6 0.7 0.6 0.4 0.6 0.4 0.2 0.3\n",
      " 0.7 0.4 0.6 0.6 0.5 0.8 0.6 0.5 0.6 0.5 0.6 0.3 0.4 0.7 0.5 0.6 0.4 0.3\n",
      " 0.3 0.7 0.3 0.3 0.4 0.5 0.6 0.6 0.6 0.7 0.5 0.6 0.4 0.5 0.3 0.3 0.6 0.4\n",
      " 0.4 0.5 0.2 0.4 0.4 0.3 0.5 0.5 0.6 0.5 0.4 0.3 0.3 0.2 0.7 0.6 0.4 0.2\n",
      " 0.6 0.5 0.6 0.4 0.3 0.6 0.5 0.4 0.4 0.5 0.4 0.5 0.6 0.7 0.3 0.7 0.6 0.6\n",
      " 0.4 0.5 0.5 0.4 0.6 0.5 0.5 0.5 0.6 0.5 0.5 0.4 0.2 0.4 0.6 0.9 0.2 0.5\n",
      " 0.3 0.5 0.3 0.6 0.5 0.6 0.5 0.5 0.4 0.4 0.4 0.4 0.6 0.6 0.4 0.4 0.4 0.5\n",
      " 0.6 0.5 0.8 0.6 0.6 0.4 0.4 0.4 0.4 0.4 0.5 0.4 0.6 0.7 0.4 0.6 0.6 0.7\n",
      " 0.6 0.5 0.6 0.5 0.6 0.7 0.6 0.8 0.6 0.5 0.2 0.4 0.6 0.7 0.6 0.5 0.5 0.6\n",
      " 0.4 0.7 0.8 0.8 0.5 0.3 0.6 0.4 0.4 0.4 0.7 0.6 0.6 0.5 0.6 0.6 0.3 0.5\n",
      " 0.4 0.4 0.6 0.6 0.4 0.4 0.7 0.5 0.5 0.4 0.2 0.3 0.5 0.4 0.4 0.6 0.7 0.3\n",
      " 0.8 0.7 0.4 0.6 0.5 0.6 0.8 0.8 0.7 0.6 0.4 0.5 0.5 0.2 0.6 0.2 0.4 0.3\n",
      " 0.7 0.6 0.5 0.5 0.6 0.4 0.4 0.5 0.4 0.6 0.7 0.2 0.6 0.5 0.6 0.5 0.5 0.5\n",
      " 0.7 0.8 0.7 0.4 0.6 0.4 0.5 0.5 0.6 0.5 0.7 0.8 0.4 0.5 0.7 0.3 0.5 0.5\n",
      " 0.5 0.3 0.4 0.6 0.6 0.2 0.6 0.5 0.5 0.6 0.5 0.6 0.3 0.5 0.5 0.5 0.5 0.7\n",
      " 0.5 0.8 0.5 0.3 0.3 0.6 0.4 0.5 0.5 0.4 0.3 0.7 0.6 0.3 0.6 0.3 0.2 0.5\n",
      " 0.3 0.4 0.4 0.4 0.6 0.7 0.4 0.5 0.4 0.3 0.4 0.4 0.6 0.4 0.7 0.5 0.5 0.5\n",
      " 0.6 0.3 0.2 0.5 0.4 0.5 0.4 0.4 0.3 0.7 0.5 0.5 0.6 0.4 0.5 0.5 0.1 0.2\n",
      " 0.5 0.3 0.5 0.4 0.3 0.7 0.3 0.3 0.6 0.4 0.5 0.5 0.6 0.5 0.6 0.2 0.6 0.4\n",
      " 0.8 0.4 0.5 0.3 0.4 0.6 0.5 0.6 0.5 0.4 0.5 0.3 0.4 0.6 0.8 0.6 0.7 0.3\n",
      " 0.3 0.8 0.4 0.2 0.7 0.5 0.6 0.4 0.6 0.7 0.6 0.7 0.5 0.7 0.5 0.6 0.6 0.8\n",
      " 0.5 0.4 0.4 0.4 0.4 0.6 0.7 0.4 0.8 0.4 0.6 0.5 0.5 0.4 0.7 0.7 0.6 0.4\n",
      " 0.7 0.4 0.6 0.3 0.6 0.5 0.9 0.6 0.4 0.5 0.6 0.5 0.5 0.4 0.6 0.6 0.3 0.7\n",
      " 0.8 0.4 0.4 0.6 0.5 0.7 0.5 0.4 0.5 0.3 0.4 0.7 0.7 0.3 0.8 0.5 0.4 0.6\n",
      " 0.5 0.3 0.3 0.4 0.7 0.4 0.7 0.7 0.3 0.6]\n"
     ]
    }
   ],
   "source": [
    "nu = heads_counts / num_flips\n",
    "print(nu)"
   ],
   "metadata": {
    "collapsed": false,
    "ExecuteTime": {
     "end_time": "2024-09-16T20:06:18.121046220Z",
     "start_time": "2024-09-16T20:06:18.027601981Z"
    }
   },
   "id": "d61717cf1e75a80"
  },
  {
   "cell_type": "markdown",
   "source": [
    "## c1 is the First Coin"
   ],
   "metadata": {
    "collapsed": false
   },
   "id": "72f8aa54120603f7"
  },
  {
   "cell_type": "code",
   "execution_count": 6,
   "outputs": [],
   "source": [
    "nu1 = nu[0]"
   ],
   "metadata": {
    "collapsed": false,
    "ExecuteTime": {
     "end_time": "2024-09-16T20:06:18.122630789Z",
     "start_time": "2024-09-16T20:06:18.073319094Z"
    }
   },
   "id": "e825ce2f70093684"
  },
  {
   "cell_type": "markdown",
   "source": [
    "## crand is a Randomly Selected Coin"
   ],
   "metadata": {
    "collapsed": false
   },
   "id": "16af387f68c20540"
  },
  {
   "cell_type": "code",
   "execution_count": 7,
   "outputs": [],
   "source": [
    "rand_index = np.random.randint(0, num_coins)\n",
    "nurand = nu[rand_index]"
   ],
   "metadata": {
    "collapsed": false,
    "ExecuteTime": {
     "end_time": "2024-09-16T20:06:18.123433182Z",
     "start_time": "2024-09-16T20:06:18.073928408Z"
    }
   },
   "id": "f48114a23c1419b7"
  },
  {
   "cell_type": "markdown",
   "source": [
    "## cmin is the Coin with the Minimum Number of Heads\n",
    "### In Case of a Tie, Pick the Earliest Coin"
   ],
   "metadata": {
    "collapsed": false
   },
   "id": "30f1bff0dcf408ca"
  },
  {
   "cell_type": "code",
   "execution_count": 8,
   "outputs": [],
   "source": [
    "min_heads = heads_counts.min()\n",
    "min_indices = np.where(heads_counts == min_heads)[0]\n",
    "cmin_index = min_indices[0]\n",
    "numin = nu[cmin_index]"
   ],
   "metadata": {
    "collapsed": false,
    "ExecuteTime": {
     "end_time": "2024-09-16T20:06:18.123812819Z",
     "start_time": "2024-09-16T20:06:18.074478753Z"
    }
   },
   "id": "27d9e9d3a8b6e9d6"
  },
  {
   "cell_type": "markdown",
   "source": [
    "# Results"
   ],
   "metadata": {
    "collapsed": false
   },
   "id": "d46707fedff416be"
  },
  {
   "cell_type": "code",
   "execution_count": 9,
   "outputs": [
    {
     "name": "stdout",
     "output_type": "stream",
     "text": [
      "Fraction of heads for c1 (ν1): 0.5\n",
      "Fraction of heads for crand (νrand): 0.5\n",
      "Fraction of heads for cmin (νmin): 0.1\n"
     ]
    }
   ],
   "source": [
    "print(f\"Fraction of heads for c1 (ν1): {nu1}\")\n",
    "print(f\"Fraction of heads for crand (νrand): {nurand}\")\n",
    "print(f\"Fraction of heads for cmin (νmin): {numin}\")"
   ],
   "metadata": {
    "collapsed": false,
    "ExecuteTime": {
     "end_time": "2024-09-16T20:06:18.124317849Z",
     "start_time": "2024-09-16T20:06:18.074932497Z"
    }
   },
   "id": "937648ef407f6c4c"
  },
  {
   "cell_type": "markdown",
   "source": [
    "# B) Repeat this entire experiment a large number of times\n",
    "Repeat this entire experiment a large number of times (e.g., 100,000 runs of the entire experiment) to get several instances of ν1,νrand and νmin and plot the histograms of the distributions of ν1,νrand and νmin. Notice that the coins that end up being crand and cmin may differ from one run to another."
   ],
   "metadata": {
    "collapsed": false
   },
   "id": "6c95f9599cefbf95"
  },
  {
   "cell_type": "code",
   "execution_count": 10,
   "outputs": [],
   "source": [
    "# Number of experiments\n",
    "num_experiments = 100000\n",
    "\n",
    "# Number of coins and flips\n",
    "num_coins = 1000\n",
    "num_flips = 10\n",
    "\n",
    "# Arrays to store the fractions of heads\n",
    "nu1_values = []\n",
    "nurand_values = []\n",
    "numin_values = []"
   ],
   "metadata": {
    "collapsed": false,
    "ExecuteTime": {
     "end_time": "2024-09-16T20:06:18.124573695Z",
     "start_time": "2024-09-16T20:06:18.076809681Z"
    }
   },
   "id": "81a1b1a605aafb82"
  },
  {
   "cell_type": "code",
   "execution_count": 11,
   "outputs": [],
   "source": [
    "for _ in range(num_experiments):\n",
    "    flips = np.random.randint(0, 2, size=(num_coins, num_flips))\n",
    "    \n",
    "    heads_counts = flips.sum(axis=1)\n",
    "    \n",
    "    nu = heads_counts / num_flips\n",
    "\n",
    "    nu1 = nu[0]\n",
    "    nu1_values.append(nu1)\n",
    "\n",
    "    rand_index = np.random.randint(0, num_coins)\n",
    "    nurand = nu[rand_index]\n",
    "    nurand_values.append(nurand)\n",
    "\n",
    "    min_heads = heads_counts.min()\n",
    "    min_indices = np.where(heads_counts == min_heads)[0]\n",
    "    cmin_index = min_indices[0]\n",
    "    numin = nu[cmin_index]\n",
    "    numin_values.append(numin)\n",
    "\n",
    "nu1_values = np.array(nu1_values)\n",
    "nurand_values = np.array(nurand_values)\n",
    "numin_values = np.array(numin_values)"
   ],
   "metadata": {
    "collapsed": false,
    "ExecuteTime": {
     "end_time": "2024-09-16T20:06:23.996360833Z",
     "start_time": "2024-09-16T20:06:18.077357391Z"
    }
   },
   "id": "554fbf61cddf0b13"
  },
  {
   "cell_type": "markdown",
   "source": [
    "# Plotting the histograms"
   ],
   "metadata": {
    "collapsed": false
   },
   "id": "e60bb7245082fea"
  },
  {
   "cell_type": "code",
   "execution_count": 12,
   "outputs": [
    {
     "data": {
      "text/plain": "<Figure size 1500x1000 with 0 Axes>"
     },
     "execution_count": 12,
     "metadata": {},
     "output_type": "execute_result"
    },
    {
     "data": {
      "text/plain": "<Figure size 1500x1000 with 0 Axes>"
     },
     "metadata": {},
     "output_type": "display_data"
    }
   ],
   "source": [
    "bins = np.arange(0, 11) / 10\n",
    "plt.figure(figsize=(15, 10))"
   ],
   "metadata": {
    "collapsed": false,
    "ExecuteTime": {
     "end_time": "2024-09-16T20:06:24.047310597Z",
     "start_time": "2024-09-16T20:06:23.997726055Z"
    }
   },
   "id": "ddfad3ebcf7641fd"
  },
  {
   "cell_type": "markdown",
   "source": [
    "## Histogram for ν1"
   ],
   "metadata": {
    "collapsed": false
   },
   "id": "fb6d7486e59bc2b"
  },
  {
   "cell_type": "code",
   "execution_count": 13,
   "outputs": [
    {
     "data": {
      "text/plain": "<Figure size 640x480 with 1 Axes>",
      "image/png": "[encoded data removed]"
     },
     "metadata": {},
     "output_type": "display_data"
    }
   ],
   "source": [
    "plt.subplot(1, 3, 1)\n",
    "plt.hist(nu1_values, bins=bins, edgecolor='black', alpha=0.7)\n",
    "plt.title('Histogram of ν₁')\n",
    "plt.xlabel('Fraction of Heads')\n",
    "plt.ylabel('Frequency')\n",
    "plt.tight_layout()\n",
    "plt.show()"
   ],
   "metadata": {
    "collapsed": false,
    "ExecuteTime": {
     "end_time": "2024-09-16T20:06:24.146995902Z",
     "start_time": "2024-09-16T20:06:24.045648222Z"
    }
   },
   "id": "6464e7c02f6bf3a"
  },
  {
   "cell_type": "markdown",
   "source": [
    "## Histogram for νrand"
   ],
   "metadata": {
    "collapsed": false
   },
   "id": "31f2842891eb141d"
  },
  {
   "cell_type": "code",
   "execution_count": 14,
   "outputs": [
    {
     "data": {
      "text/plain": "<Figure size 640x480 with 1 Axes>",
      "image/png": "[encoded data removed]"
     },
     "metadata": {},
     "output_type": "display_data"
    }
   ],
   "source": [
    "plt.subplot(1, 3, 2)\n",
    "plt.hist(nurand_values, bins=bins, edgecolor='black', alpha=0.7)\n",
    "plt.title('Histogram of ν_rand')\n",
    "plt.xlabel('Fraction of Heads')\n",
    "plt.ylabel('Frequency')\n",
    "plt.tight_layout()\n",
    "plt.show()"
   ],
   "metadata": {
    "collapsed": false,
    "ExecuteTime": {
     "end_time": "2024-09-16T20:06:24.247264735Z",
     "start_time": "2024-09-16T20:06:24.158203734Z"
    }
   },
   "id": "bcca311596024f9"
  },
  {
   "cell_type": "markdown",
   "source": [
    "## Histogram for νmin"
   ],
   "metadata": {
    "collapsed": false
   },
   "id": "4a2912b94193bd98"
  },
  {
   "cell_type": "code",
   "execution_count": 15,
   "outputs": [
    {
     "data": {
      "text/plain": "<Figure size 640x480 with 1 Axes>",
      "image/png": "[encoded data removed]"
     },
     "metadata": {},
     "output_type": "display_data"
    }
   ],
   "source": [
    "plt.subplot(1, 3, 3)\n",
    "plt.hist(numin_values, bins=bins, edgecolor='black', alpha=0.7)\n",
    "plt.title('Histogram of ν_min')\n",
    "plt.xlabel('Fraction of Heads')\n",
    "plt.ylabel('Frequency')\n",
    "plt.tight_layout()\n",
    "plt.show()"
   ],
   "metadata": {
    "collapsed": false,
    "ExecuteTime": {
     "end_time": "2024-09-16T20:06:24.346311913Z",
     "start_time": "2024-09-16T20:06:24.258610944Z"
    }
   },
   "id": "fc69c9831a001593"
  },
  {
   "cell_type": "markdown",
   "source": [
    "# (C) plot estimates for P [|ν − μ| > ε] as a function of ε\n",
    "Using (b), plot estimates for P [|ν − μ| > ε] as a function of ε, together with the Hoeffding bound"
   ],
   "metadata": {
    "collapsed": false
   },
   "id": "354907708bbaf651"
  },
  {
   "cell_type": "code",
   "execution_count": 18,
   "outputs": [
    {
     "name": "stdout",
     "output_type": "stream",
     "text": [
      "[0.         0.00505051 0.01010101 0.01515152 0.02020202 0.02525253\n",
      " 0.03030303 0.03535354 0.04040404 0.04545455 0.05050505 0.05555556\n",
      " 0.06060606 0.06565657 0.07070707 0.07575758 0.08080808 0.08585859\n",
      " 0.09090909 0.0959596  0.1010101  0.10606061 0.11111111 0.11616162\n",
      " 0.12121212 0.12626263 0.13131313 0.13636364 0.14141414 0.14646465\n",
      " 0.15151515 0.15656566 0.16161616 0.16666667 0.17171717 0.17676768\n",
      " 0.18181818 0.18686869 0.19191919 0.1969697  0.2020202  0.20707071\n",
      " 0.21212121 0.21717172 0.22222222 0.22727273 0.23232323 0.23737374\n",
      " 0.24242424 0.24747475 0.25252525 0.25757576 0.26262626 0.26767677\n",
      " 0.27272727 0.27777778 0.28282828 0.28787879 0.29292929 0.2979798\n",
      " 0.3030303  0.30808081 0.31313131 0.31818182 0.32323232 0.32828283\n",
      " 0.33333333 0.33838384 0.34343434 0.34848485 0.35353535 0.35858586\n",
      " 0.36363636 0.36868687 0.37373737 0.37878788 0.38383838 0.38888889\n",
      " 0.39393939 0.3989899  0.4040404  0.40909091 0.41414141 0.41919192\n",
      " 0.42424242 0.42929293 0.43434343 0.43939394 0.44444444 0.44949495\n",
      " 0.45454545 0.45959596 0.46464646 0.46969697 0.47474747 0.47979798\n",
      " 0.48484848 0.48989899 0.49494949 0.5       ]\n"
     ]
    }
   ],
   "source": [
    "# True probability of heads\n",
    "mu = 0.5 \n",
    "\n",
    "# Define epsilon values\n",
    "epsilon_values = np.linspace(0, 0.5, 100)\n",
    "\n",
    "# Initialize arrays to store probabilities\n",
    "prob_nu1 = []\n",
    "prob_nurand = []\n",
    "prob_numin = []\n",
    "hoeffding_bounds = []\n",
    "\n",
    "for epsilon in epsilon_values:\n",
    "    # Empirical probabilities\n",
    "    prob_nu1.append(np.mean(np.abs(nu1_values - mu) > epsilon))\n",
    "    prob_nurand.append(np.mean(np.abs(nurand_values - mu) > epsilon))\n",
    "    prob_numin.append(np.mean(np.abs(numin_values - mu) > epsilon))\n",
    "    # Hoeffding bound\n",
    "    hoeffding_bounds.append(2 * np.exp(-2 * epsilon**2 * num_flips))\n",
    "\n",
    "prob_nu1 = np.array(prob_nu1)\n",
    "prob_nurand = np.array(prob_nurand)\n",
    "prob_numin = np.array(prob_numin)\n",
    "hoeffding_bounds = np.array(hoeffding_bounds)"
   ],
   "metadata": {
    "collapsed": false,
    "ExecuteTime": {
     "end_time": "2024-09-16T20:08:03.182053022Z",
     "start_time": "2024-09-16T20:08:03.118702828Z"
    }
   },
   "id": "82718588c22ebe8d"
  },
  {
   "cell_type": "markdown",
   "source": [
    "# Plotting the results"
   ],
   "metadata": {
    "collapsed": false
   },
   "id": "ad8f828bcfb610bd"
  },
  {
   "cell_type": "markdown",
   "source": [],
   "metadata": {
    "collapsed": false
   },
   "id": "6cb013cfe91922d2"
  },
  {
   "cell_type": "code",
   "execution_count": 23,
   "outputs": [
    {
     "data": {
      "text/plain": "<Figure size 1000x600 with 1 Axes>",
      "image/png": "[encoded data removed]"
     },
     "metadata": {},
     "output_type": "display_data"
    }
   ],
   "source": [
    "plt.figure(figsize=(10, 6))\n",
    "\n",
    "# Plot empirical probabilities\n",
    "plt.plot(epsilon_values, prob_nu1, label='P(|ν₁ - μ| > ε)', marker='o', markevery=10)\n",
    "plt.plot(epsilon_values, prob_nurand, label='P(|ν_rand - μ| > ε)', marker='s', markevery=10)\n",
    "plt.plot(epsilon_values, prob_numin, label='P(|ν_min - μ| > ε)', marker='^', markevery=10)\n",
    "\n",
    "# Plot Hoeffding bound\n",
    "plt.plot(epsilon_values, hoeffding_bounds, label='Hoeffding Bound', linestyle='--', color='black')\n",
    "\n",
    "# Configure the plot\n",
    "plt.yscale('log')  # Use logarithmic scale for y-axis to better visualize small probabilities\n",
    "plt.xlabel('ε (Deviation from μ)')\n",
    "plt.ylabel('Probability')\n",
    "plt.title('Empirical Probabilities vs. Hoeffding Bound')\n",
    "plt.legend()\n",
    "plt.grid(True)\n",
    "plt.tight_layout()\n",
    "plt.show()"
   ],
   "metadata": {
    "collapsed": false,
    "ExecuteTime": {
     "end_time": "2024-09-16T20:17:36.071508900Z",
     "start_time": "2024-09-16T20:17:35.783734551Z"
    }
   },
   "id": "5327fb062e582252"
  }
 ],
 "metadata": {
  "kernelspec": {
   "display_name": "Python 3",
   "language": "python",
   "name": "python3"
  },
  "language_info": {
   "codemirror_mode": {
    "name": "ipython",
    "version": 2
   },
   "file_extension": ".py",
   "mimetype": "text/x-python",
   "name": "python",
   "nbconvert_exporter": "python",
   "pygments_lexer": "ipython2",
   "version": "2.7.6"
  }
 },
 "nbformat": 4,
 "nbformat_minor": 5
}
